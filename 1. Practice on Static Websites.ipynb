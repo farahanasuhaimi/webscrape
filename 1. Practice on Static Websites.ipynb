{
 "cells": [
  {
   "cell_type": "markdown",
   "metadata": {},
   "source": [
    "### Tutorial 1: Web Scraping Practice on Static Websites\n",
    "Web Scraping Practice on Static Websites using simple python libraries such as requests and BeautifulSoup.\n"
   ]
  },
  {
   "cell_type": "code",
   "execution_count": 1,
   "metadata": {},
   "outputs": [],
   "source": [
    "import requests as re\n",
    "import os\n",
    "\n",
    "url = \"https://www.getducked.com/collections/all\"\n",
    "r = re.get(url)\n",
    "# r.content is the raw html of the page"
   ]
  },
  {
   "cell_type": "code",
   "execution_count": 2,
   "metadata": {},
   "outputs": [],
   "source": [
    "# To get the content of the page in a more readable format, we use BeautifulSoup\n",
    "from bs4 import BeautifulSoup as soup\n",
    "soup = soup(r.content, 'html.parser')"
   ]
  },
  {
   "cell_type": "code",
   "execution_count": 3,
   "metadata": {},
   "outputs": [
    {
     "name": "stdout",
     "output_type": "stream",
     "text": [
      "95.00 \n",
      "31.66 \n",
      "23.75 \n",
      "10.00 \n",
      "3.33 \n"
     ]
    }
   ],
   "source": [
    "money_elements = soup.find_all(class_=\"money\")\n",
    "for money_element in money_elements[:5]:\n",
    "    print(money_element.text[2:])"
   ]
  },
  {
   "cell_type": "markdown",
   "metadata": {},
   "source": [
    "We tried to scrape the price of the product, now, let us try to scrape the title of the product, href and the price of the product.\n",
    "\n",
    "![imageParse](htmlParse.png)"
   ]
  },
  {
   "cell_type": "code",
   "execution_count": 4,
   "metadata": {},
   "outputs": [],
   "source": [
    "product_cards = soup.find_all('product-card')\n",
    "titles = []\n",
    "urls = []\n",
    "prices = []\n",
    "\n",
    "for product_card in product_cards:\n",
    "    # Get the product title\n",
    "    title = product_card.find('a', class_='product-card-title').text.strip()\n",
    "    titles.append(title)\n",
    "\n",
    "    # Get the product URL\n",
    "    href = product_card.find('a', class_='product-card-title')['href']\n",
    "    urls.append(href)\n",
    "\n",
    "    # Get the product price\n",
    "    price = product_card.find(class_='money').text[2:].strip()\n",
    "    prices.append(price)"
   ]
  },
  {
   "cell_type": "code",
   "execution_count": 5,
   "metadata": {},
   "outputs": [
    {
     "data": {
      "text/html": [
       "<div>\n",
       "<style scoped>\n",
       "    .dataframe tbody tr th:only-of-type {\n",
       "        vertical-align: middle;\n",
       "    }\n",
       "\n",
       "    .dataframe tbody tr th {\n",
       "        vertical-align: top;\n",
       "    }\n",
       "\n",
       "    .dataframe thead th {\n",
       "        text-align: right;\n",
       "    }\n",
       "</style>\n",
       "<table border=\"1\" class=\"dataframe\">\n",
       "  <thead>\n",
       "    <tr style=\"text-align: right;\">\n",
       "      <th></th>\n",
       "      <th>title</th>\n",
       "      <th>url</th>\n",
       "      <th>price(RM)</th>\n",
       "    </tr>\n",
       "  </thead>\n",
       "  <tbody>\n",
       "    <tr>\n",
       "      <th>0</th>\n",
       "      <td>The dUCk Mini Shopping Bag 2.0 in Pink</td>\n",
       "      <td>/collections/all/products/the-duck-mini-shoppi...</td>\n",
       "      <td>95.0</td>\n",
       "    </tr>\n",
       "    <tr>\n",
       "      <th>1</th>\n",
       "      <td>Safety Pins in Black</td>\n",
       "      <td>/collections/all/products/safety-pins-in-black</td>\n",
       "      <td>10.0</td>\n",
       "    </tr>\n",
       "    <tr>\n",
       "      <th>2</th>\n",
       "      <td>The Easy dUCk 2.0 - Breezy Black</td>\n",
       "      <td>/collections/all/products/the-easy-duck-2-0-br...</td>\n",
       "      <td>150.0</td>\n",
       "    </tr>\n",
       "    <tr>\n",
       "      <th>3</th>\n",
       "      <td>dUCk The Purple Sponge</td>\n",
       "      <td>/collections/all/products/duck-the-purple-sponge</td>\n",
       "      <td>45.0</td>\n",
       "    </tr>\n",
       "    <tr>\n",
       "      <th>4</th>\n",
       "      <td>Frappe Shawl in Long Black</td>\n",
       "      <td>/collections/all/products/frappe-shawl-in-long...</td>\n",
       "      <td>130.0</td>\n",
       "    </tr>\n",
       "  </tbody>\n",
       "</table>\n",
       "</div>"
      ],
      "text/plain": [
       "                                    title  \\\n",
       "0  The dUCk Mini Shopping Bag 2.0 in Pink   \n",
       "1                    Safety Pins in Black   \n",
       "2        The Easy dUCk 2.0 - Breezy Black   \n",
       "3                  dUCk The Purple Sponge   \n",
       "4              Frappe Shawl in Long Black   \n",
       "\n",
       "                                                 url  price(RM)  \n",
       "0  /collections/all/products/the-duck-mini-shoppi...       95.0  \n",
       "1     /collections/all/products/safety-pins-in-black       10.0  \n",
       "2  /collections/all/products/the-easy-duck-2-0-br...      150.0  \n",
       "3   /collections/all/products/duck-the-purple-sponge       45.0  \n",
       "4  /collections/all/products/frappe-shawl-in-long...      130.0  "
      ]
     },
     "execution_count": 5,
     "metadata": {},
     "output_type": "execute_result"
    }
   ],
   "source": [
    "import pandas as pd\n",
    "# create dataframe with prices in doubles\n",
    "prices = [float(price) for price in prices]\n",
    "data = pd.DataFrame({'title': titles, 'url': urls, 'price(RM)': prices})\n",
    "\n",
    "# Print the DataFrame\n",
    "data.head()"
   ]
  },
  {
   "cell_type": "code",
   "execution_count": 6,
   "metadata": {},
   "outputs": [],
   "source": [
    "#save data into csv\n",
    "data.to_csv('ducked.csv', index=False)"
   ]
  },
  {
   "cell_type": "markdown",
   "metadata": {},
   "source": [
    "To get all the data from the product cards we will use selenium"
   ]
  }
 ],
 "metadata": {
  "kernelspec": {
   "display_name": "Python 3",
   "language": "python",
   "name": "python3"
  },
  "language_info": {
   "codemirror_mode": {
    "name": "ipython",
    "version": 3
   },
   "file_extension": ".py",
   "mimetype": "text/x-python",
   "name": "python",
   "nbconvert_exporter": "python",
   "pygments_lexer": "ipython3",
   "version": "3.12.0"
  }
 },
 "nbformat": 4,
 "nbformat_minor": 2
}
