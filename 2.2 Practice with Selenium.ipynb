{
 "cells": [
  {
   "cell_type": "markdown",
   "metadata": {},
   "source": [
    "### Let us learn Selenium with Python\n",
    "- Selenium is a powerful tool for controlling web browsers through programs and performing browser automation.\n",
    "- It is functional for all browsers, works on all major OS and its scripts are written in various languages i.e Python, Java, C#, etc"
   ]
  },
  {
   "cell_type": "markdown",
   "metadata": {},
   "source": [
    "### 1. Data extraction\n",
    "#### 1.1 Import libraries"
   ]
  },
  {
   "cell_type": "code",
   "execution_count": 1,
   "metadata": {},
   "outputs": [],
   "source": [
    "from selenium import webdriver\n",
    "from selenium.webdriver.chrome.service import Service\n",
    "from webdriver_manager.chrome import ChromeDriverManager\n",
    "from selenium.webdriver.chrome.options import Options\n",
    "import chromedriver_autoinstaller\n",
    "from bs4 import BeautifulSoup\n",
    "import pandas as pd\n",
    "\n",
    "# install the libraries for webpages interactions\n",
    "from selenium.common.exceptions import TimeoutException, ElementClickInterceptedException\n",
    "from selenium.webdriver.support.ui import WebDriverWait\n",
    "from selenium.webdriver.support import expected_conditions as EC\n",
    "from selenium.webdriver.common.by import By"
   ]
  },
  {
   "cell_type": "markdown",
   "metadata": {},
   "source": [
    "We will try to replicate this tutorial by David Zerpa on his project [here](https://www.linkedin.com/feed/update/urn:li:activity:7196180482084986880?utm_source=share&utm_medium=member_desktop)"
   ]
  },
  {
   "cell_type": "markdown",
   "metadata": {},
   "source": [
    "#### 1.2 Creating services in Google Chrome to run session called 'Driver'"
   ]
  },
  {
   "cell_type": "code",
   "execution_count": 2,
   "metadata": {},
   "outputs": [],
   "source": [
    "def setup_selenium():\n",
    "    chromedriver_autoinstaller.install()\n",
    "    options = Options()\n",
    "    options.add_argument(\"--start-maximized\")\n",
    "    options.add_argument(\"--disable-gpu\")\n",
    "    options.add_argument(\"--no-sandbox\")\n",
    "    options.add_argument(\"--disable-dev-shm-usage\")\n",
    "\n",
    "    service = Service(executable_path=chromedriver_autoinstaller.install()) \n",
    "    driver = webdriver.Chrome(service=service, options=options)\n",
    "    return driver\n"
   ]
  },
  {
   "cell_type": "markdown",
   "metadata": {},
   "source": [
    "#### 1.3 Creating a function to extract data from the website"
   ]
  },
  {
   "cell_type": "code",
   "execution_count": 3,
   "metadata": {},
   "outputs": [],
   "source": [
    "url = \"https://www.flashscore.com\""
   ]
  },
  {
   "cell_type": "code",
   "execution_count": 4,
   "metadata": {},
   "outputs": [],
   "source": [
    "def accept_cookies(driver):\n",
    "    try:\n",
    "        driver.get(url)\n",
    "\n",
    "        cookie_button = WebDriverWait(driver, 10).until (\n",
    "            EC.element_to_be_clickable((BY.ID, \"onetrust-accept-btn-handler\"))\n",
    "        )\n",
    "        cookie_button.click()\n",
    "        print(\"Cookies accepted successfully\")\n",
    "    except Exception as e:\n",
    "            print(\"Cookies button not found\")\n",
    "            print(e)"
   ]
  },
  {
   "cell_type": "markdown",
   "metadata": {},
   "source": [
    "![imageParse](laliga_league.png)"
   ]
  },
  {
   "cell_type": "code",
   "execution_count": 5,
   "metadata": {},
   "outputs": [],
   "source": [
    "css_1 = \"#my-leagues-list\"\n",
    "# css_2 is the laliga link\n",
    "css_2 = \"#my-leagues-list > div:nth-child(1) > div:nth-child(6) > a > span.leftMenu__text\"\n",
    "url_2 = \"https://www.flashscore.com/football/spain/laliga/\"\n",
    "\n",
    "def navigate_to_page(driver, url):\n",
    "\n",
    "    accept_cookies(driver)\n",
    "    try:\n",
    "        WebDriverWait(driver, 10).until(\n",
    "            EC.presence_of_element_located((By.CSS_SELECTOR, css_1))\n",
    "        )\n",
    "        # use javascript to click on the element\n",
    "        link_1 = driver.find_element(By.CSS_SELECTOR, css_2)\n",
    "        driver.execute_script(\"arguments[0].click();\", link_1)\n",
    "\n",
    "        print(f\"Successfully navigated to {url_2}\")\n",
    "    except Exception as e:\n",
    "        print(f\"Failed to navigate, error {e}\")"
   ]
  },
  {
   "cell_type": "markdown",
   "metadata": {},
   "source": [
    "![imageParse](laliga_league2.png)"
   ]
  },
  {
   "cell_type": "code",
   "execution_count": 6,
   "metadata": {},
   "outputs": [],
   "source": [
    "def click_results_tab(driver):\n",
    "    try:\n",
    "        results_tab = WebDriverWait(driver, 10).until(\n",
    "            EC.element_to_be_clickable((By.ID, \"li2\"))\n",
    "        )\n",
    "        results_tab.click()\n",
    "        print(\"Results tab clicked successfully\")\n",
    "    except Exception as e:\n",
    "        print(f\"Failed to click results tab, error {e}\")"
   ]
  },
  {
   "cell_type": "code",
   "execution_count": 7,
   "metadata": {},
   "outputs": [],
   "source": [
    "def click_show_more_matches(driver):\n",
    "    try:\n",
    "        while True:\n",
    "            try:\n",
    "                WebDriverWait(driver, 5).until(\n",
    "                    EC.element_to_be_clickable((By.CSS_SELECTOR, \"a.event__more.event__more--static\"))\n",
    "                )\n",
    "                show_more_button = driver.find_element(By.CSS_SELECTOR, \"a.event__more.event__more--static\")\n",
    "                show_more_button.click()\n",
    "\n",
    "                print(\"Show more matches clicked successfully\")\n",
    "            except ElementClickInterceptedException:\n",
    "                show_more_button = driver.find_element(By.CSS_SELECTOR, \"a.event__more.event__more--static\")\n",
    "                driver.execute_script(\"arguments[0].click();\", show_more_button)\n",
    "            except StaleElementReferenceException:\n",
    "                print(\"Encountered a stale element, retrying...\")\n",
    "                continue\n",
    "    except TimeoutException:\n",
    "        pass\n",
    "    except Exception as e:\n",
    "        print(f\"Failed to click show more matches, error {e}\")"
   ]
  },
  {
   "cell_type": "code",
   "execution_count": null,
   "metadata": {},
   "outputs": [],
   "source": [
    "def extract_match_data (driver, season_text):\n",
    "    matches = []\n",
    "    current_round = None\n",
    "\n",
    "    elements = driver.find_elements(By.CSS_SELECTOR, \"div.event__match.event__match--static\")"
   ]
  }
 ],
 "metadata": {
  "kernelspec": {
   "display_name": "Python 3",
   "language": "python",
   "name": "python3"
  },
  "language_info": {
   "codemirror_mode": {
    "name": "ipython",
    "version": 3
   },
   "file_extension": ".py",
   "mimetype": "text/x-python",
   "name": "python",
   "nbconvert_exporter": "python",
   "pygments_lexer": "ipython3",
   "version": "3.12.0"
  }
 },
 "nbformat": 4,
 "nbformat_minor": 2
}
