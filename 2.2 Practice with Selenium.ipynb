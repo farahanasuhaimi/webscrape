{
 "cells": [
  {
   "cell_type": "markdown",
   "metadata": {},
   "source": [
    "### Let us learn Selenium with Python\n",
    "- Selenium is a powerful tool for controlling web browsers through programs and performing browser automation.\n",
    "- It is functional for all browsers, works on all major OS and its scripts are written in various languages i.e Python, Java, C#, etc"
   ]
  },
  {
   "cell_type": "markdown",
   "metadata": {},
   "source": [
    "### 1. Data extraction\n",
    "#### 1.1 Import libraries"
   ]
  },
  {
   "cell_type": "code",
   "execution_count": 18,
   "metadata": {},
   "outputs": [],
   "source": [
    "from selenium import webdriver\n",
    "from selenium.webdriver.chrome.service import Service\n",
    "from webdriver_manager.chrome import ChromeDriverManager\n",
    "from selenium.webdriver.chrome.options import Options\n",
    "import chromedriver_autoinstaller\n",
    "from bs4 import BeautifulSoup\n",
    "import pandas as pd\n",
    "import re\n",
    "\n",
    "# install the libraries for webpages interactions\n",
    "from selenium.common.exceptions import TimeoutException, ElementClickInterceptedException\n",
    "from selenium.webdriver.support.ui import WebDriverWait\n",
    "from selenium.webdriver.support import expected_conditions as EC\n",
    "from selenium.webdriver.common.by import By"
   ]
  },
  {
   "cell_type": "markdown",
   "metadata": {},
   "source": [
    "We will try to replicate this tutorial by David Zerpa on his project [here](https://www.linkedin.com/feed/update/urn:li:activity:7196180482084986880?utm_source=share&utm_medium=member_desktop)"
   ]
  },
  {
   "cell_type": "markdown",
   "metadata": {},
   "source": [
    "#### 1.2 Creating services in Google Chrome to run session called 'Driver'"
   ]
  },
  {
   "cell_type": "code",
   "execution_count": 2,
   "metadata": {},
   "outputs": [],
   "source": [
    "def setup_selenium():\n",
    "    chromedriver_autoinstaller.install()\n",
    "    options = Options()\n",
    "    options.add_argument(\"--start-maximized\")\n",
    "    options.add_argument(\"--disable-gpu\")\n",
    "    options.add_argument(\"--no-sandbox\")\n",
    "    options.add_argument(\"--disable-dev-shm-usage\")\n",
    "\n",
    "    service = Service(executable_path=chromedriver_autoinstaller.install()) \n",
    "    driver = webdriver.Chrome(service=service, options=options)\n",
    "    return driver\n"
   ]
  },
  {
   "cell_type": "markdown",
   "metadata": {},
   "source": [
    "#### 1.3 Creating a function to extract data from the website"
   ]
  },
  {
   "cell_type": "code",
   "execution_count": 3,
   "metadata": {},
   "outputs": [],
   "source": [
    "url = \"https://www.flashscore.com\""
   ]
  },
  {
   "cell_type": "code",
   "execution_count": 4,
   "metadata": {},
   "outputs": [],
   "source": [
    "def accept_cookies(driver):\n",
    "    try:\n",
    "        driver.get(url)\n",
    "\n",
    "        cookie_button = WebDriverWait(driver, 10).until (\n",
    "            EC.element_to_be_clickable((BY.ID, \"onetrust-accept-btn-handler\"))\n",
    "        )\n",
    "        cookie_button.click()\n",
    "        print(\"Cookies accepted successfully\")\n",
    "    except Exception as e:\n",
    "            print(\"Cookies button not found\")\n",
    "            print(e)"
   ]
  },
  {
   "cell_type": "markdown",
   "metadata": {},
   "source": [
    "![imageParse](images/laliga_league.png)"
   ]
  },
  {
   "cell_type": "code",
   "execution_count": 16,
   "metadata": {},
   "outputs": [],
   "source": [
    "css_1 = \"#my-leagues-list\"\n",
    "# css_2 is the laliga link\n",
    "css_2 = \"#my-leagues-list > div:nth-child(1) > div:nth-child(6) > a > span.leftMenu__text\"\n",
    "url_2 = \"https://www.flashscore.com/football/spain/laliga/\"\n",
    "\n",
    "def navigate_to_page(driver):\n",
    "\n",
    "    accept_cookies(driver)\n",
    "    try:\n",
    "        WebDriverWait(driver, 10).until(\n",
    "            EC.presence_of_element_located((By.CSS_SELECTOR, css_1))\n",
    "        )\n",
    "        # use javascript to click on the element\n",
    "        link_1 = driver.find_element(By.CSS_SELECTOR, css_2)\n",
    "        driver.execute_script(\"arguments[0].click();\", link_1)\n",
    "\n",
    "        print(f\"Successfully navigated to {url_2}\")\n",
    "    except Exception as e:\n",
    "        print(f\"Failed to navigate, error {e}\")"
   ]
  },
  {
   "cell_type": "markdown",
   "metadata": {},
   "source": [
    "![imageParse](images/laliga_league2.png)"
   ]
  },
  {
   "cell_type": "code",
   "execution_count": 6,
   "metadata": {},
   "outputs": [],
   "source": [
    "def click_results_tab(driver):\n",
    "    try:\n",
    "        results_tab = WebDriverWait(driver, 10).until(\n",
    "            EC.element_to_be_clickable((By.ID, \"li2\"))\n",
    "        )\n",
    "        results_tab.click()\n",
    "        print(\"Results tab clicked successfully\")\n",
    "    except Exception as e:\n",
    "        print(f\"Failed to click results tab, error {e}\")"
   ]
  },
  {
   "cell_type": "code",
   "execution_count": 7,
   "metadata": {},
   "outputs": [],
   "source": [
    "def click_show_more_matches(driver):\n",
    "    try:\n",
    "        while True:\n",
    "            try:\n",
    "                WebDriverWait(driver, 5).until(\n",
    "                    EC.element_to_be_clickable((By.CSS_SELECTOR, \"a.event__more.event__more--static\"))\n",
    "                )\n",
    "                show_more_button = driver.find_element(By.CSS_SELECTOR, \"a.event__more.event__more--static\")\n",
    "                show_more_button.click()\n",
    "\n",
    "                print(\"Show more matches clicked successfully\")\n",
    "            except ElementClickInterceptedException:\n",
    "                show_more_button = driver.find_element(By.CSS_SELECTOR, \"a.event__more.event__more--static\")\n",
    "                driver.execute_script(\"arguments[0].click();\", show_more_button)\n",
    "            except StaleElementReferenceException:\n",
    "                print(\"Encountered a stale element, retrying...\")\n",
    "                continue\n",
    "    except TimeoutException:\n",
    "        pass\n",
    "    except Exception as e:\n",
    "        print(f\"Failed to click show more matches, error {e}\")"
   ]
  },
  {
   "cell_type": "code",
   "execution_count": 19,
   "metadata": {},
   "outputs": [],
   "source": [
    "def extract_match_data (driver, season_text):\n",
    "    matches = []\n",
    "    current_round = None\n",
    "\n",
    "    elements = driver.find_elements(By.CSS_SELECTOR, \"div.leagues--static > div, div.leagues--static > div > div\")\n",
    "    match = re.search(r'(\\d{4})/(\\d{4})', season_text) # extract the season from the text\n",
    "    if match:\n",
    "        first_year = match.group(1)\n",
    "        second_year = match.group(2)\n",
    "    else:\n",
    "        first_year = None\n",
    "        second_year = None\n",
    "    \n",
    "    for element in elements:\n",
    "        class_attr = element.get_attribute(\"class\")\n",
    "        if \"event__round--static\" in class_attr:\n",
    "            current_round = element.text.replace(\"ROUND\", \"\").strip()\n",
    "        elif \" event__match--static\" in class_attr and current_round:\n",
    "            date_time = element.find_element(By.CSS_SELECTOR, \"div.event__time\").text\n",
    "            date_parts = date_time.split(' ')[0].split('.')\n",
    "            if len(date_parts) >= 2:\n",
    "                day, month = date_parts[0], date_parts[1]\n",
    "                year = second_year if int(month) >= 7 else first_year\n",
    "                full_date = f\"{day}/{month}/{year}\"\n",
    "            else:\n",
    "                continue\n",
    "\n",
    "            home_team = element.find_element(By.CSS_SELECTOR, \"div.event__participant--home\").text\n",
    "            away_team = element.find_element(By.CSS_SELECTOR, \"div.event__participant--away\").text\n",
    "            home_score = element.find_element(By.CSS_SELECTOR, \"div.event__score--home\").text\n",
    "            away_score = element.find_element(By.CSS_SELECTOR, \"div.event__score--away\").text\n",
    "\n",
    "            match_data = {\n",
    "                \"Season\": f\"{first_year}/{second_year}\",\n",
    "                \"Round\": current_round,\n",
    "                \"Date\": full_date,\n",
    "                \"Home Team\":home_team,\n",
    "                \"Away Team\": away_team,\n",
    "                \"Home Score\": int(home_score),\n",
    "                \"Away Score\": int(away_score),\n",
    "                \"Total Goals\": int(home_score) + int(away_score),\n",
    "                \"Result\": determine_result(int(home_score), int(away_score))\n",
    "            }\n",
    "            matches.append(match_data)"
   ]
  },
  {
   "cell_type": "code",
   "execution_count": 9,
   "metadata": {},
   "outputs": [],
   "source": [
    "def determine_result(home_score, away_score):\n",
    "    if home_score > away_score:\n",
    "        return \"Home Win\"\n",
    "    elif home_score < away_score:\n",
    "        return \"Away Win\"\n",
    "    else:\n",
    "        return \"Draw\""
   ]
  },
  {
   "cell_type": "code",
   "execution_count": 11,
   "metadata": {},
   "outputs": [],
   "source": [
    "def navigate_to_archive(driver):\n",
    "\n",
    "    navigate_to_page(driver)\n",
    "  \n",
    "    try:\n",
    "        archive_tab = WebDriverWait(driver, 10).until(\n",
    "            EC.element_to_be_clickable((By.CSS_SELECTOR, \"#li5\"))\n",
    "        )\n",
    "        archive_tab.click()\n",
    "        print(\"Archive link clicked successfully\")\n",
    "    except Exception as e:\n",
    "        print(f\"Failed to click archive link, error {e}\")"
   ]
  },
  {
   "cell_type": "code",
   "execution_count": 12,
   "metadata": {},
   "outputs": [],
   "source": [
    "def get_season_links(driver):\n",
    "    try:\n",
    "        WebDriverWait(driver, 10).until(\n",
    "            EC.presence_of_element_located((By.CSS_SELECTOR, \"div.archive__season a\"))\n",
    "        )\n",
    "        season_links = driver.find_elements(By.CSS_SELECTOR, \"div.archive__season a\")\n",
    "        \n",
    "        return [(season.text, season.get_attribute(\"href\")) for season in season_links]\n",
    "    except Exception as e:\n",
    "        print(f\"Failed to get season links, error {e}\")\n",
    "        return []"
   ]
  },
  {
   "cell_type": "code",
   "execution_count": 13,
   "metadata": {},
   "outputs": [],
   "source": [
    "def extract_data_for_all_seasons(driver):\n",
    "    navigate_to_archive(driver)\n",
    "    seasons = get_season_links(driver)\n",
    "    all_matches = []\n",
    "\n",
    "    for season_text, season_url in seasons:\n",
    "        driver.get(season_url)\n",
    "        click_results_tab(driver)\n",
    "        click_show_more_matches(driver)\n",
    "        season_matches = extract_match_data(driver, season_text)\n",
    "        for match in season_matches:\n",
    "            match[\"Season\"] = season_text\n",
    "        all_matches.append(season_matches)\n",
    "        print(f\"Extracted {len(season_matches)} matches for {season_text}\")\n",
    "    return all_matches"
   ]
  },
  {
   "cell_type": "code",
   "execution_count": 14,
   "metadata": {},
   "outputs": [],
   "source": [
    "def main():\n",
    "    driver = setup_selenium()\n",
    "    try:\n",
    "        all_matches_data = extract_data_for_all_seasons(driver)\n",
    "        df = pd.DataFrame(all_matches_data)\n",
    "        df.to_csv(\"laliga_matches.csv\", index=False)\n",
    "        print(\"Data extracted successfully\")\n",
    "        return df\n",
    "    finally:\n",
    "        driver.quit()"
   ]
  },
  {
   "cell_type": "code",
   "execution_count": 20,
   "metadata": {},
   "outputs": [
    {
     "name": "stdout",
     "output_type": "stream",
     "text": [
      "Cookies button not found\n",
      "name 'BY' is not defined\n",
      "Successfully navigated to https://www.flashscore.com/football/spain/laliga/\n",
      "Archive link clicked successfully\n",
      "Results tab clicked successfully\n",
      "Failed to click show more matches, error name 'StaleElementReferenceException' is not defined\n"
     ]
    },
    {
     "ename": "TypeError",
     "evalue": "'NoneType' object is not iterable",
     "output_type": "error",
     "traceback": [
      "\u001b[1;31m---------------------------------------------------------------------------\u001b[0m",
      "\u001b[1;31mTypeError\u001b[0m                                 Traceback (most recent call last)",
      "Cell \u001b[1;32mIn[20], line 1\u001b[0m\n\u001b[1;32m----> 1\u001b[0m matches \u001b[38;5;241m=\u001b[39m \u001b[43mmain\u001b[49m\u001b[43m(\u001b[49m\u001b[43m)\u001b[49m\n",
      "Cell \u001b[1;32mIn[14], line 4\u001b[0m, in \u001b[0;36mmain\u001b[1;34m()\u001b[0m\n\u001b[0;32m      2\u001b[0m driver \u001b[38;5;241m=\u001b[39m setup_selenium()\n\u001b[0;32m      3\u001b[0m \u001b[38;5;28;01mtry\u001b[39;00m:\n\u001b[1;32m----> 4\u001b[0m     all_matches_data \u001b[38;5;241m=\u001b[39m \u001b[43mextract_data_for_all_seasons\u001b[49m\u001b[43m(\u001b[49m\u001b[43mdriver\u001b[49m\u001b[43m)\u001b[49m\n\u001b[0;32m      5\u001b[0m     df \u001b[38;5;241m=\u001b[39m pd\u001b[38;5;241m.\u001b[39mDataFrame(all_matches_data)\n\u001b[0;32m      6\u001b[0m     df\u001b[38;5;241m.\u001b[39mto_csv(\u001b[38;5;124m\"\u001b[39m\u001b[38;5;124mlaliga_matches.csv\u001b[39m\u001b[38;5;124m\"\u001b[39m, index\u001b[38;5;241m=\u001b[39m\u001b[38;5;28;01mFalse\u001b[39;00m)\n",
      "Cell \u001b[1;32mIn[13], line 11\u001b[0m, in \u001b[0;36mextract_data_for_all_seasons\u001b[1;34m(driver)\u001b[0m\n\u001b[0;32m      9\u001b[0m click_show_more_matches(driver)\n\u001b[0;32m     10\u001b[0m season_matches \u001b[38;5;241m=\u001b[39m extract_match_data(driver, season_text)\n\u001b[1;32m---> 11\u001b[0m \u001b[43m\u001b[49m\u001b[38;5;28;43;01mfor\u001b[39;49;00m\u001b[43m \u001b[49m\u001b[43mmatch\u001b[49m\u001b[43m \u001b[49m\u001b[38;5;129;43;01min\u001b[39;49;00m\u001b[43m \u001b[49m\u001b[43mseason_matches\u001b[49m\u001b[43m:\u001b[49m\n\u001b[0;32m     12\u001b[0m \u001b[43m    \u001b[49m\u001b[38;5;28;43;01mmatch\u001b[39;49;00m\u001b[43m[\u001b[49m\u001b[38;5;124;43m\"\u001b[39;49m\u001b[38;5;124;43mSeason\u001b[39;49m\u001b[38;5;124;43m\"\u001b[39;49m\u001b[43m]\u001b[49m\u001b[43m \u001b[49m\u001b[38;5;241;43m=\u001b[39;49m\u001b[43m \u001b[49m\u001b[43mseason_text\u001b[49m\n\u001b[0;32m     13\u001b[0m all_matches\u001b[38;5;241m.\u001b[39mappend(season_matches)\n",
      "\u001b[1;31mTypeError\u001b[0m: 'NoneType' object is not iterable"
     ]
    }
   ],
   "source": [
    "matches = main()"
   ]
  }
 ],
 "metadata": {
  "kernelspec": {
   "display_name": "Python 3",
   "language": "python",
   "name": "python3"
  },
  "language_info": {
   "codemirror_mode": {
    "name": "ipython",
    "version": 3
   },
   "file_extension": ".py",
   "mimetype": "text/x-python",
   "name": "python",
   "nbconvert_exporter": "python",
   "pygments_lexer": "ipython3",
   "version": "3.12.0"
  }
 },
 "nbformat": 4,
 "nbformat_minor": 2
}
