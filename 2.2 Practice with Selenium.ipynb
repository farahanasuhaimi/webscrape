{
 "cells": [
  {
   "cell_type": "markdown",
   "metadata": {},
   "source": [
    "### Let us learn Selenium with Python\n",
    "- Selenium is a powerful tool for controlling web browsers through programs and performing browser automation.\n",
    "- It is functional for all browsers, works on all major OS and its scripts are written in various languages i.e Python, Java, C#, etc"
   ]
  },
  {
   "cell_type": "markdown",
   "metadata": {},
   "source": [
    "### 1. Data extraction\n",
    "#### 1.1 Import libraries"
   ]
  },
  {
   "cell_type": "code",
   "execution_count": null,
   "metadata": {},
   "outputs": [],
   "source": [
    "from selenium import webdriver\n",
    "from selenium.webdriver.chrome.service import Service\n",
    "from webdriver_manager.chrome import ChromeDriverManager\n",
    "from selenium.webdriver.chrome.options import Options\n",
    "import chromedriver_autoinstaller\n",
    "from bs4 import BeautifulSoup\n",
    "import pandas as pd\n",
    "import re\n",
    "\n",
    "# install the libraries for webpages interactions\n",
    "from selenium.common.exceptions import TimeoutException, StaleElementReferenceException, ElementClickInterceptedException\n",
    "from selenium.webdriver.support.ui import WebDriverWait\n",
    "from selenium.webdriver.support import expected_conditions as EC\n",
    "from selenium.webdriver.common.by import By"
   ]
  },
  {
   "cell_type": "markdown",
   "metadata": {},
   "source": [
    "We will try to replicate this tutorial by David Zerpa on his project [here](https://www.linkedin.com/feed/update/urn:li:activity:7196180482084986880?utm_source=share&utm_medium=member_desktop)"
   ]
  },
  {
   "cell_type": "markdown",
   "metadata": {},
   "source": [
    "#### 1.2 Creating services in Google Chrome to run session called 'Driver'"
   ]
  },
  {
   "cell_type": "markdown",
   "metadata": {},
   "source": [
    "#### 1.3 Creating a function to extract data from the website"
   ]
  },
  {
   "cell_type": "code",
   "execution_count": null,
   "metadata": {},
   "outputs": [],
   "source": [
    "url = \"https://www.flashscore.com\""
   ]
  },
  {
   "cell_type": "code",
   "execution_count": null,
   "metadata": {},
   "outputs": [],
   "source": [
    "def accept_cookies(driver):\n",
    "    try:\n",
    "        driver.get(url)\n",
    "\n",
    "        cookie_button = WebDriverWait(driver, 20).until (\n",
    "            EC.element_to_be_clickable((By.ID, \"onetrust-accept-btn-handler\"))\n",
    "        )\n",
    "        cookie_button.click()\n",
    "        print(\"Cookies accepted successfully\")\n",
    "    except Exception as e:\n",
    "            print(\"Cookies button not found\")\n",
    "            print(e)"
   ]
  },
  {
   "cell_type": "markdown",
   "metadata": {},
   "source": [
    "![imageParse](images/laliga_league.png)"
   ]
  },
  {
   "cell_type": "code",
   "execution_count": null,
   "metadata": {},
   "outputs": [],
   "source": [
    "css_1 = \"#my-leagues-list\"\n",
    "# css_2 is the laliga link\n",
    "css_2 = \"#my-leagues-list > div:nth-child(1) > div:nth-child(6) > a > span.leftMenu__text\"\n",
    "url_2 = \"https://www.flashscore.com/football/spain/laliga/\"\n",
    "\n",
    "def navigate_to_page(driver):\n",
    "\n",
    "    accept_cookies(driver)\n",
    "    try:\n",
    "        WebDriverWait(driver, 10).until(\n",
    "            EC.presence_of_element_located((By.CSS_SELECTOR, \"#my-leagues-list\"))\n",
    "        )\n",
    "        # use javascript to click on the element\n",
    "        link_1 = driver.find_element(By.CSS_SELECTOR, \"#my-leagues-list > div:nth-child(1) > div:nth-child(6) > a > span.leftMenu__text\")\n",
    "        driver.execute_script(\"arguments[0].click();\", link_1)\n",
    "\n",
    "        print(f\"Successfully navigated to page\")\n",
    "    except Exception as e:\n",
    "        print(f\"Failed to navigate, error {e}\")"
   ]
  },
  {
   "cell_type": "markdown",
   "metadata": {},
   "source": [
    "![imageParse](images/laliga_league2.png)"
   ]
  },
  {
   "cell_type": "code",
   "execution_count": null,
   "metadata": {},
   "outputs": [],
   "source": [
    "def click_results_tab(driver):\n",
    "    try:\n",
    "        results_tab = WebDriverWait(driver, 10).until(\n",
    "            #EC.element_to_be_clickable(By.ID, \"li2\")\n",
    "            EC.element_to_be_clickable((By.CSS_SELECTOR, \"a#li2.tabs__tab.results\"))\n",
    "        )\n",
    "        results_tab.click()\n",
    "        #print(\"Results tab clicked successfully\")\n",
    "    except Exception as e:\n",
    "        print(f\"Failed to click results tab, error {e}\")"
   ]
  },
  {
   "cell_type": "code",
   "execution_count": null,
   "metadata": {},
   "outputs": [],
   "source": [
    "def click_show_more_matches(driver):\n",
    "    try:\n",
    "        while True:\n",
    "            try:\n",
    "                WebDriverWait(driver, 10).until(\n",
    "                    EC.element_to_be_clickable((By.CSS_SELECTOR, \"a.event__more.event__more--static\"))\n",
    "                )\n",
    "                show_more_button = driver.find_element(By.CSS_SELECTOR, \"a.event__more.event__more--static\")\n",
    "                show_more_button.click()\n",
    "\n",
    "                #print(\"Show more matches clicked successfully\")\n",
    "            except ElementClickInterceptedException:\n",
    "                show_more_button = driver.find_element(By.CSS_SELECTOR, \"a.event__more.event__more--static\")\n",
    "                driver.execute_script(\"arguments[0].click();\", show_more_button)\n",
    "            except StaleElementReferenceException:\n",
    "                #print(\"Encountered a stale element, retrying...\")\n",
    "                continue\n",
    "    except TimeoutException:\n",
    "        #print(\"No more 'Show more matches' button found.\")\n",
    "        pass\n",
    "    except Exception as e:\n",
    "        print(f\"Failed to click show more matches, error {e}\")"
   ]
  },
  {
   "cell_type": "code",
   "execution_count": null,
   "metadata": {},
   "outputs": [],
   "source": [
    "def extract_match_data (driver, season_text):\n",
    "    matches = []\n",
    "    current_round = None\n",
    "\n",
    "    elements = driver.find_elements(By.CSS_SELECTOR, \"div.leagues--static > div, div.leagues--static > div > div\")\n",
    "    match = re.search(r'(\\d{4})/(\\d{4})', season_text) # extract the season from the text\n",
    "    if match:\n",
    "        first_year = match.group(1)\n",
    "        second_year = match.group(2)\n",
    "    else:\n",
    "        first_year = None\n",
    "        second_year = None\n",
    "    \n",
    "    for element in elements:\n",
    "        class_attr = element.get_attribute(\"class\")\n",
    "        if \"event__round--static\" in class_attr:\n",
    "            current_round = element.text.replace(\"ROUND\", \"\").strip()\n",
    "        elif \" event__match--static\" in class_attr and current_round:\n",
    "            date_time = element.find_element(By.CSS_SELECTOR, \"div.event__time\").text\n",
    "            date_parts = date_time.split(' ')[0].split('.')\n",
    "            if len(date_parts) >= 2:\n",
    "                day, month = date_parts[0], date_parts[1]\n",
    "                year = second_year if int(month) >= 7 else first_year\n",
    "                full_date = f\"{day}-{month}-{year}\" # use this format to match easily convert using pd.to_datetime\n",
    "            else:\n",
    "                continue\n",
    "\n",
    "            home_team = element.find_element(By.CSS_SELECTOR, \"div.event__participant--home\").text\n",
    "            away_team = element.find_element(By.CSS_SELECTOR, \"div.event__participant--away\").text\n",
    "            home_score = element.find_element(By.CSS_SELECTOR, \"div.event__score--home\").text\n",
    "            away_score = element.find_element(By.CSS_SELECTOR, \"div.event__score--away\").text\n",
    "\n",
    "            match_data = {\n",
    "                \"Season\": f\"{first_year}/{second_year}\",\n",
    "                \"Round\": current_round,\n",
    "                \"Date\": full_date,\n",
    "                \"Home Team\":home_team,\n",
    "                \"Away Team\": away_team,\n",
    "                \"Home Score\": int(home_score),\n",
    "                \"Away Score\": int(away_score),\n",
    "                \"Total Goals\": int(home_score) + int(away_score),\n",
    "                \"Result\": determine_result(int(home_score), int(away_score))\n",
    "            }\n",
    "            matches.append(match_data)\n",
    "    return matches"
   ]
  },
  {
   "cell_type": "code",
   "execution_count": null,
   "metadata": {},
   "outputs": [],
   "source": [
    "def determine_result(home_score, away_score):\n",
    "    if home_score > away_score:\n",
    "        return \"Home Win\"\n",
    "    elif home_score < away_score:\n",
    "        return \"Away Win\"\n",
    "    else:\n",
    "        return \"Draw\""
   ]
  },
  {
   "cell_type": "code",
   "execution_count": null,
   "metadata": {},
   "outputs": [],
   "source": [
    "def navigate_to_archive(driver):\n",
    "\n",
    "    navigate_to_page(driver)\n",
    "  \n",
    "    try:\n",
    "        archive_tab = WebDriverWait(driver, 10).until(\n",
    "            EC.element_to_be_clickable((By.CSS_SELECTOR, \"#li5\"))\n",
    "        )\n",
    "        archive_tab.click()\n",
    "        print(\"Archive link clicked successfully\")\n",
    "    except Exception as e:\n",
    "        print(f\"Failed to click archive link, error {e}\")"
   ]
  },
  {
   "cell_type": "code",
   "execution_count": null,
   "metadata": {},
   "outputs": [],
   "source": [
    "def get_season_links(driver):\n",
    "    try:\n",
    "        WebDriverWait(driver, 10).until(\n",
    "            EC.presence_of_all_elements_located((By.CSS_SELECTOR, \"div.archive__season > a\"))\n",
    "        )\n",
    "        season_links = driver.find_elements(By.CSS_SELECTOR, \"div.archive__season > a\")\n",
    "        #season_data = [(season.text, season.get_attribute(\"href\")) for season in season_links]\n",
    "        #print(\"Season link extracted successfully: {}\".format(season_data))\n",
    "\n",
    "        return [(season.text, season.get_attribute(\"href\")) for season in season_links]\n",
    "    except Exception as e:\n",
    "        print(f\"Failed to get season links, error {e}\")\n",
    "        return []"
   ]
  },
  {
   "cell_type": "code",
   "execution_count": null,
   "metadata": {},
   "outputs": [],
   "source": [
    "def extract_data_for_all_seasons(driver):\n",
    "    navigate_to_archive(driver)\n",
    "    seasons = get_season_links(driver)\n",
    "    print(\"Extracted {} seasons\".format(len(seasons)))\n",
    "    all_matches = []\n",
    "\n",
    "    for season_text, season_url in seasons:\n",
    "        driver.get(season_url)\n",
    "        click_results_tab(driver)\n",
    "        click_show_more_matches(driver)\n",
    "        season_matches = extract_match_data(driver, season_text)\n",
    "        all_matches.extend(season_matches)\n",
    "        for match in season_matches:\n",
    "            match[\"Season\"] = season_text\n",
    "        print(\"{} Season extracted successfully\".format(season_text))\n",
    "    return all_matches"
   ]
  },
  {
   "cell_type": "code",
   "execution_count": null,
   "metadata": {},
   "outputs": [],
   "source": [
    "def main():\n",
    "    driver = setup_selenium()\n",
    "    try:\n",
    "        all_matches_data = extract_data_for_all_seasons(driver)\n",
    "        df = pd.DataFrame(all_matches_data)\n",
    "        df.to_csv(\"laliga_matches.csv\", index=False)\n",
    "        print(\"Data extracted successfully\")\n",
    "        return df\n",
    "    finally:\n",
    "        driver.quit()"
   ]
  },
  {
   "cell_type": "code",
   "execution_count": null,
   "metadata": {},
   "outputs": [],
   "source": [
    "matches = main()"
   ]
  },
  {
   "cell_type": "code",
   "execution_count": null,
   "metadata": {},
   "outputs": [],
   "source": [
    "matches_rev = matches.copy()"
   ]
  },
  {
   "cell_type": "code",
   "execution_count": null,
   "metadata": {},
   "outputs": [],
   "source": [
    "matches_rev['Date'] = pd.to_datetime(matches['Date'], format='%d/%m/%Y', errors='coerce')\n",
    "matches_rev['Season']  = matches['Season'].str.extract(r'(\\d{4}/\\d{4})')\n",
    "matches_rev = matches[['Season', 'Round', 'Date', 'Home Team', 'Away Team', 'Home Score', 'Away Score', 'Total Goals', 'Result']]"
   ]
  },
  {
   "cell_type": "code",
   "execution_count": null,
   "metadata": {},
   "outputs": [],
   "source": [
    "matches_rev.info()"
   ]
  },
  {
   "cell_type": "code",
   "execution_count": null,
   "metadata": {},
   "outputs": [],
   "source": [
    "matches['Date'].head()"
   ]
  },
  {
   "cell_type": "markdown",
   "metadata": {},
   "source": [
    "#### Troubleshooting "
   ]
  },
  {
   "cell_type": "code",
   "execution_count": null,
   "metadata": {},
   "outputs": [],
   "source": [
    "season_text = \"LaLiga 2023/2024\"\n",
    "chromedriver_autoinstaller.install()\n",
    "options = Options()\n",
    "options.add_argument(\"--start-maximized\")\n",
    "options.add_argument(\"--disable-gpu\")\n",
    "options.add_argument(\"--no-sandbox\")\n",
    "options.add_argument(\"--disable-dev-shm-usage\")\n",
    "\n",
    "service = Service(executable_path=chromedriver_autoinstaller.install()) \n",
    "driver = webdriver.Chrome(service=service, options=options)\n",
    "driver.get(\"https://www.flashscore.com/football/spain/laliga/results/\")\n",
    "cookie_button = WebDriverWait(driver, 20).until (\n",
    "    EC.element_to_be_clickable((By.ID, \"onetrust-accept-btn-handler\"))\n",
    ")\n",
    "cookie_button.click()\n",
    "print(\"Cookies accepted successfully\")\n",
    "df = pd.DataFrame(extract_match_data(driver, season_text))\n",
    "driver.quit()"
   ]
  },
  {
   "cell_type": "code",
   "execution_count": null,
   "metadata": {},
   "outputs": [],
   "source": [
    "df.head()"
   ]
  }
 ],
 "metadata": {
  "kernelspec": {
   "display_name": "Python 3",
   "language": "python",
   "name": "python3"
  },
  "language_info": {
   "codemirror_mode": {
    "name": "ipython",
    "version": 3
   },
   "file_extension": ".py",
   "mimetype": "text/x-python",
   "name": "python",
   "nbconvert_exporter": "python",
   "pygments_lexer": "ipython3",
   "version": "3.12.0"
  }
 },
 "nbformat": 4,
 "nbformat_minor": 2
}
