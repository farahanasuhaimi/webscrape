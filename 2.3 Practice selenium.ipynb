{
 "cells": [
  {
   "cell_type": "markdown",
   "metadata": {},
   "source": [
    "### Practice with selenium_helper functions for other league.\n",
    "We will use the functions from previous problems to solve this problem. \n",
    "1. First we need to convert the functions into some classes.\n",
    "2. Then we will use the helper functions to solve this problem.\n",
    "3. All the libraries will be imported in the classes."
   ]
  }
 ],
 "metadata": {
  "language_info": {
   "name": "python"
  }
 },
 "nbformat": 4,
 "nbformat_minor": 2
}
